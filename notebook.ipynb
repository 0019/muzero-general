{
 "nbformat": 4,
 "nbformat_minor": 2,
 "metadata": {
  "language_info": {
   "name": "python",
   "codemirror_mode": {
    "name": "ipython",
    "version": 3
   }
  },
  "orig_nbformat": 2,
  "file_extension": ".py",
  "mimetype": "text/x-python",
  "name": "python",
  "npconvert_exporter": "python",
  "pygments_lexer": "ipython3",
  "version": 3
 },
 "cells": [
  {
   "cell_type": "code",
   "execution_count": null,
   "metadata": {},
   "outputs": [],
   "source": [
    "# Google colab imports\n",
    "!pip install -r requirements.txt\n",
    "!pip uninstall -y pyarrow\n",
    "# If you have an import issue with ray, restart the environment (execution menu)\n",
    "\n",
    "# You must have the repository imported along with your notebook. \n",
    "# For google colab, click on \">\" buttton (left) and import files (muzero.py, self_play.py, ...).\n",
    "import muzero as mz"
   ]
  },
  {
   "cell_type": "code",
   "execution_count": null,
   "metadata": {},
   "outputs": [],
   "source": [
    "#Train on cartpole game\n",
    "muzero = mz.MuZero(\"cartpole\")\n",
    "muzero.load_model()\n",
    "muzero.train()\n",
    "muzero.test()"
   ]
  }
 ]
}